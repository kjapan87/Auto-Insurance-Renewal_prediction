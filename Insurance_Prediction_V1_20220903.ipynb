{
  "nbformat": 4,
  "nbformat_minor": 0,
  "metadata": {
    "colab": {
      "provenance": [],
      "mount_file_id": "1Sho1_SgS6xUfZ-H2YWgbjcVaovW_DuZP",
      "authorship_tag": "ABX9TyPu1UsbWqM5wIFOnqf+ua0g",
      "include_colab_link": true
    },
    "kernelspec": {
      "name": "python3",
      "display_name": "Python 3"
    },
    "language_info": {
      "name": "python"
    }
  },
  "cells": [
    {
      "cell_type": "markdown",
      "metadata": {
        "id": "view-in-github",
        "colab_type": "text"
      },
      "source": [
        "<a href=\"https://colab.research.google.com/github/kjapan87/Auto-Insurance-Renewal_prediction/blob/main/Insurance_Prediction_V1_20220903.ipynb\" target=\"_parent\"><img src=\"https://colab.research.google.com/assets/colab-badge.svg\" alt=\"Open In Colab\"/></a>"
      ]
    },
    {
      "cell_type": "code",
      "execution_count": null,
      "metadata": {
        "id": "4vaijUGTe2vp"
      },
      "outputs": [],
      "source": [
        "import numpy as np\n",
        "import pandas as pd\n",
        "import matplotlib.pyplot as plt"
      ]
    },
    {
      "cell_type": "code",
      "source": [
        "df = pd.read_csv('/content/train.csv')"
      ],
      "metadata": {
        "id": "0rR5uMOSfHp7"
      },
      "execution_count": null,
      "outputs": []
    },
    {
      "cell_type": "code",
      "source": [
        "def dataset_analyze(df):\n",
        "    with pd.option_context(\"display.max_rows\", None):\n",
        "        info = pd.DataFrame()\n",
        "        info['data type'] = df.dtypes\n",
        "        info['Data Missing %ge'] = df.isnull().sum()*100/len(df)\n",
        "        info['No. Unique'] = df.apply(lambda x: len(x.unique()))\n",
        "        info['Unique Values'] = df.apply(lambda x: x.unique())\n",
        "        return info.sort_values('Data Missing %ge',ascending = True)\n",
        "    dataset_analyze()"
      ],
      "metadata": {
        "id": "LqggmjLLxFdi"
      },
      "execution_count": null,
      "outputs": []
    },
    {
      "cell_type": "code",
      "source": [
        "dataset_analyze(df)"
      ],
      "metadata": {
        "id": "pVac8CsyxLsd"
      },
      "execution_count": null,
      "outputs": []
    },
    {
      "cell_type": "code",
      "source": [
        "df['risk_factor'] = df['risk_factor'].fillna(method = 'pad')\n"
      ],
      "metadata": {
        "id": "qUEVeCoExdin"
      },
      "execution_count": null,
      "outputs": []
    }
  ]
}